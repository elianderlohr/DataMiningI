{
 "cells": [
  {
   "cell_type": "markdown",
   "id": "bbb3664e",
   "metadata": {},
   "source": [
    "# Naive Bayes\n",
    "## -> with removing stopwords, without stemming\n",
    "- Accuracy: around 0.76035"
   ]
  },
  {
   "cell_type": "markdown",
   "id": "06af4f91",
   "metadata": {},
   "source": [
    "## Import dataset and split training attribute and target classes"
   ]
  },
  {
   "cell_type": "code",
   "execution_count": null,
   "id": "4d1781c6",
   "metadata": {},
   "outputs": [],
   "source": [
    "import pandas as pd\n",
    "from sklearn.preprocessing import LabelEncoder\n",
    "import numpy as np\n",
    "\n",
    "df = pd.read_csv('dataset.csv')\n",
    "\n",
    "df_target = df.copy()\n",
    "df_data =df_target\n",
    "\n",
    "#Prepare and encode target data\n",
    "df_target=df_target.drop(columns='text')\n",
    "label_encoder = LabelEncoder()\n",
    "df_target = label_encoder.fit_transform(df_target)\n",
    "\n",
    "#Prepare training data\n",
    "df_data=df_data.drop(columns='humor')\n",
    "df_data= np.array(df_data['text'])\n"
   ]
  },
  {
   "cell_type": "markdown",
   "id": "b1a5322a",
   "metadata": {},
   "source": [
    "## Define method for plotting a confusion matrix"
   ]
  },
  {
   "cell_type": "code",
   "execution_count": 2,
   "id": "85cea5d5",
   "metadata": {},
   "outputs": [],
   "source": [
    "import itertools\n",
    "import matplotlib.pyplot as plt\n",
    "\n",
    "\n",
    "#Confusion matrix to evaluate models\n",
    "def plot_confusion_matrix(cm, classes,\n",
    "                          normalize=False,\n",
    "                          title='Confusion matrix',\n",
    "                          cmap=plt.cm.Blues):\n",
    "    \"\"\"\n",
    "    This function prints and plots the confusion matrix.\n",
    "    Normalization can be applied by setting `normalize=True`.\n",
    "    \"\"\"\n",
    "    if normalize:\n",
    "        cm = cm.astype('float') / cm.sum(axis=1)[:, np.newaxis]\n",
    "\n",
    "    plt.imshow(cm, interpolation='nearest', cmap=cmap)\n",
    "    plt.title(title)\n",
    "    plt.colorbar()\n",
    "    tick_marks = np.arange(len(classes))\n",
    "    plt.xticks(tick_marks, classes, rotation=45)\n",
    "    plt.yticks(tick_marks, classes)\n",
    "\n",
    "    fmt = '.2f' if normalize else 'd'\n",
    "    thresh = cm.max() / 2.\n",
    "    for i, j in itertools.product(range(cm.shape[0]), range(cm.shape[1])):\n",
    "        plt.text(j, i, format(cm[i, j], fmt),\n",
    "                 horizontalalignment=\"center\",\n",
    "                 color=\"white\" if cm[i, j] > thresh else \"black\")\n",
    "\n",
    "    plt.ylabel('True label')\n",
    "    plt.xlabel('Predicted label')\n",
    "    plt.tight_layout()\n",
    "    plt.show()"
   ]
  },
  {
   "cell_type": "code",
   "execution_count": null,
   "id": "4eac961e",
   "metadata": {},
   "outputs": [],
   "source": []
  },
  {
   "cell_type": "markdown",
   "id": "381d8cbf",
   "metadata": {},
   "source": [
    "## Define preprocessor, classifier and pipeline. Fit the model.\n",
    "\n",
    "The Dense transformer is used to transform the sparse matrix result of TF-IDF into a dense format needed by the GaussianNB classifier\n",
    "\n",
    "Hyperparameters were optimized within a grid search estimator. Due to long runtimes the large ranges of parameters were tested with large steps in the first place. After having an orientation the ranges and steps were reduced. Some paramters like stopword removal delivered in every iterative run the same results, wherefore the parameter was directly written into the class."
   ]
  },
  {
   "cell_type": "code",
   "execution_count": 3,
   "id": "2bdfd22c",
   "metadata": {},
   "outputs": [
    {
     "name": "stdout",
     "output_type": "stream",
     "text": [
      "{'transformer__max_features': 430, 'transformer__min_df': 0.0014}\n"
     ]
    }
   ],
   "source": [
    "from sklearn.naive_bayes import GaussianNB\n",
    "from sklearn.pipeline import Pipeline\n",
    "from sklearn.model_selection import GridSearchCV\n",
    "from sklearn.model_selection import StratifiedKFold\n",
    "from sklearn.model_selection import cross_val_predict\n",
    "from sklearn.compose import ColumnTransformer\n",
    "from sklearn.feature_extraction.text import TfidfVectorizer\n",
    "from mlxtend.preprocessing import DenseTransformer\n",
    "import numpy as np\n",
    "from sklearn.model_selection import train_test_split\n",
    "\n",
    "# Define classifier and Preprocessor\n",
    "classifier = GaussianNB(var_smoothing=2e-9)\n",
    "tfidfVectorizer = TfidfVectorizer(stop_words='english')\n",
    "\n",
    "#divide into different train/test sets to apply different sets to hyperparameter optimization and prediction\n",
    "df_data_train, df_data_test, df_target_train, df_target_test = train_test_split(\n",
    "    df_data, df_target, test_size=0.2, random_state=42)\n",
    "\n",
    "#Define Pipeline\n",
    "pipeline = Pipeline(steps=[(\"transformer\", tfidfVectorizer),('to_dense', DenseTransformer()), (\"classification\", classifier)])\n",
    "\n",
    "\n",
    "\n",
    "# Specify the tunable hyper parameters\n",
    "parameters = {\n",
    "   'transformer__min_df': list(np.arange(0.0012, 0.0016, 0.0002)),\n",
    "   #'transformer__max_df' : list(np.arange(0.05, 0.08, 0.01)),\n",
    "   'transformer__max_features' : list(range(420, 440, 10)),\n",
    "   #'transformer__stop_words' : ['english','none'] , \n",
    "   #'classification__var_smoothing': np.logspace(0,-9, num=100),\n",
    "}\n",
    "\n",
    "# Define cross validation an fit estimator\n",
    "cv = StratifiedKFold(n_splits=5, shuffle=True, random_state=42)\n",
    "estimator = GridSearchCV(pipeline, parameters, scoring=\"accuracy\", cv=cv, n_jobs=5)\n",
    "estimator.fit(df_data_train, df_target_train)\n",
    "\n",
    "print(estimator.best_params_)    "
   ]
  },
  {
   "cell_type": "markdown",
   "id": "886f2186",
   "metadata": {},
   "source": [
    "## Predict via cross validation and plot the results"
   ]
  },
  {
   "cell_type": "code",
   "execution_count": 4,
   "id": "0c0be41f",
   "metadata": {},
   "outputs": [
    {
     "name": "stdout",
     "output_type": "stream",
     "text": [
      "Accuracy: 0.76035\n"
     ]
    },
    {
     "data": {
      "image/png": "[encoded data removed]",
      "text/plain": [
       "<Figure size 432x288 with 2 Axes>"
      ]
     },
     "metadata": {
      "needs_background": "light"
     },
     "output_type": "display_data"
    },
    {
     "name": "stdout",
     "output_type": "stream",
     "text": [
      "              precision    recall  f1-score   support\n",
      "\n",
      "           0       0.79      0.72      0.75     20001\n",
      "           1       0.74      0.80      0.77     19999\n",
      "\n",
      "    accuracy                           0.76     40000\n",
      "   macro avg       0.76      0.76      0.76     40000\n",
      "weighted avg       0.76      0.76      0.76     40000\n",
      "\n"
     ]
    }
   ],
   "source": [
    "\n",
    "from sklearn.metrics import classification_report, accuracy_score, confusion_matrix\n",
    "from sklearn.utils.multiclass import unique_labels\n",
    "from sklearn.metrics import accuracy_score\n",
    "\n",
    "#Predict and output results\n",
    "prediction = cross_val_predict(estimator, df_data_test, df_target_test, cv=cv, n_jobs=-1)\n",
    "print(\"Accuracy: {}\".format(accuracy_score(df_target_test, prediction)))\n",
    "cm = confusion_matrix(df_target_test, prediction)\n",
    "plot_confusion_matrix(cm, classes=unique_labels(df_target_test))\n",
    "print(classification_report(df_target_test, prediction))\n",
    "plt.show()    "
   ]
  }
 ],
 "metadata": {
  "interpreter": {
   "hash": "81cdc1f603c531e315611687e7017b82f1a63eb722700c5abd5d378c82d30cc5"
  },
  "kernelspec": {
   "display_name": "Python 3.9.7 ('base')",
   "language": "python",
   "name": "python3"
  },
  "language_info": {
   "codemirror_mode": {
    "name": "ipython",
    "version": 3
   },
   "file_extension": ".py",
   "mimetype": "text/x-python",
   "name": "python",
   "nbconvert_exporter": "python",
   "pygments_lexer": "ipython3",
   "version": "3.9.7"
  }
 },
 "nbformat": 4,
 "nbformat_minor": 5
}
